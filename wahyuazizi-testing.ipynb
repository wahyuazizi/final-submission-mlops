{
 "cells": [
  {
   "cell_type": "code",
   "execution_count": 4,
   "metadata": {},
   "outputs": [],
   "source": [
    "import base64\n",
    "import json\n",
    "import pandas as pd\n",
    "import numpy as np\n",
    "import requests\n",
    "import tensorflow as tf"
   ]
  },
  {
   "cell_type": "code",
   "execution_count": 3,
   "metadata": {},
   "outputs": [],
   "source": [
    "df = pd.read_csv(\"data/Cleaned_HR_Data_Analysis.csv\")"
   ]
  },
  {
   "cell_type": "code",
   "execution_count": 17,
   "metadata": {},
   "outputs": [
    {
     "name": "stdout",
     "output_type": "stream",
     "text": [
      "<Response [200]>\n"
     ]
    }
   ],
   "source": [
    "from pprint import PrettyPrinter\n",
    "pp = PrettyPrinter()\n",
    "pp.pprint(requests.get(\"https://wahyuazizi-mlops.up.railway.app/v1/models/employee-performance-model\"))"
   ]
  },
  {
   "cell_type": "code",
   "execution_count": 26,
   "metadata": {},
   "outputs": [
    {
     "data": {
      "text/plain": [
       "{'EmployeeStatus': 'Active',\n",
       " 'EmployeeType': 'Contract',\n",
       " 'PayZone': 'Zone B',\n",
       " 'EmployeeClassificationType': 'Full-Time',\n",
       " 'DepartmentType': 'Sales',\n",
       " 'GenderCode': 'Male',\n",
       " 'RaceDesc': 'White',\n",
       " 'MaritalDesc': 'Widowed',\n",
       " 'TrainingType': 'Internal',\n",
       " 'TrainingOutcome': 'Incomplete',\n",
       " 'CurrentEmployeeRating': 5,\n",
       " 'EngagementScore': 3,\n",
       " 'SatisfactionScore': 4,\n",
       " 'Work-LifeBalanceScore': 5,\n",
       " 'TrainingDurationDays': 3,\n",
       " 'TrainingCost': 442.56,\n",
       " 'Age': 48}"
      ]
     },
     "execution_count": 26,
     "metadata": {},
     "output_type": "execute_result"
    }
   ],
   "source": [
    "CATEGORICAL_FEATURES = {\n",
    "    \"EmployeeStatus\": 2,\n",
    "    \"EmployeeType\": 3,\n",
    "    \"PayZone\": 3,\n",
    "    \"EmployeeClassificationType\": 3,\n",
    "    \"DepartmentType\": 6,\n",
    "    \"GenderCode\": 2,\n",
    "    \"RaceDesc\": 5,\n",
    "    \"MaritalDesc\": 4,\n",
    "    \"TrainingType\": 2,\n",
    "    \"TrainingOutcome\": 4\n",
    "}\n",
    "\n",
    "NUMERICAL_FEATURES = [\n",
    "    \"CurrentEmployeeRating\",\n",
    "    \"EngagementScore\",\n",
    "    \"SatisfactionScore\",\n",
    "    \"Work-LifeBalanceScore\",\n",
    "    \"TrainingDurationDays\",\n",
    "    \"TrainingCost\",\n",
    "    \"Age\"\n",
    "]\n",
    "selected_features = list(CATEGORICAL_FEATURES.keys()) + NUMERICAL_FEATURES\n",
    "inputs = df.loc[53, selected_features].to_dict()\n",
    "inputs\n"
   ]
  },
  {
   "cell_type": "code",
   "execution_count": 27,
   "metadata": {},
   "outputs": [
    {
     "name": "stdout",
     "output_type": "stream",
     "text": [
      "None\n"
     ]
    }
   ],
   "source": [
    "def prepare_json(inputs: dict):\n",
    "    feature_spec = dict()\n",
    "\n",
    "    for keys, values in inputs.items():\n",
    "        if isinstance(values, float):\n",
    "            feature_spec[keys] = tf.train.Feature(float_list=tf.train.FloatList(value=[values]))\n",
    "        elif isinstance(values, int):\n",
    "            feature_spec[keys] = tf.train.Feature(int64_list=tf.train.Int64List(value=[values]))\n",
    "        elif isinstance(values, str):\n",
    "            feature_spec[keys] = tf.train.Feature(bytes_list=tf.train.BytesList(value=[values.encode()]))\n",
    "\n",
    "    example = tf.train.Example(\n",
    "        features=tf.train.Features(feature=feature_spec)\n",
    "    ).SerializeToString()\n",
    "\n",
    "    result = [\n",
    "        {\n",
    "            \"examples\":{\n",
    "                \"b64\": base64.b64encode(example).decode()\n",
    "            }\n",
    "        }\n",
    "    ]\n",
    "\n",
    "    return json.dumps({\n",
    "        \"signature_name\": \"serving_default\",\n",
    "        \"instances\": result,\n",
    "    })\n",
    "\n",
    "json_data = prepare_json(inputs)\n",
    "\n",
    "endpoint = \"https://wahyuazizi-mlops.up.railway.app/v1/models/employee-performance-model:predict\"\n",
    "response = requests.post(endpoint, data=json_data)\n",
    "\n",
    "prediction = response.json().get(\"predictions\")\n",
    "print(prediction)"
   ]
  },
  {
   "cell_type": "code",
   "execution_count": 28,
   "metadata": {},
   "outputs": [
    {
     "data": {
      "text/plain": [
       "<Response [400]>"
      ]
     },
     "execution_count": 28,
     "metadata": {},
     "output_type": "execute_result"
    }
   ],
   "source": [
    "response"
   ]
  },
  {
   "cell_type": "code",
   "execution_count": null,
   "metadata": {},
   "outputs": [],
   "source": [
    "\"\"\"\n",
    "0 (PIP) → Kinerja buruk, butuh perbaikan segera.\n",
    "1 (Fully Meets) → Memenuhi harapan pekerjaan dengan baik.\n",
    "2 (Exceeded) → Melebihi ekspektasi dalam kinerja.\n",
    "3 (Need Improvement) → Performa kurang baik, tapi belum sampai tahap PIP.\n",
    "\"\"\""
   ]
  }
 ],
 "metadata": {
  "kernelspec": {
   "display_name": "submission",
   "language": "python",
   "name": "python3"
  },
  "language_info": {
   "codemirror_mode": {
    "name": "ipython",
    "version": 3
   },
   "file_extension": ".py",
   "mimetype": "text/x-python",
   "name": "python",
   "nbconvert_exporter": "python",
   "pygments_lexer": "ipython3",
   "version": "3.9.15"
  }
 },
 "nbformat": 4,
 "nbformat_minor": 2
}
