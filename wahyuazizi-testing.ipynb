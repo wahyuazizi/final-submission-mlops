{
 "cells": [
  {
   "cell_type": "code",
   "execution_count": 1,
   "metadata": {},
   "outputs": [],
   "source": [
    "import base64\n",
    "import json\n",
    "import pandas as pd\n",
    "import numpy as np\n",
    "import requests\n",
    "import tensorflow as tf"
   ]
  },
  {
   "cell_type": "code",
   "execution_count": 2,
   "metadata": {},
   "outputs": [],
   "source": [
    "df = pd.read_csv(\"data/Cleaned_HR_Data_Analysis.csv\")"
   ]
  },
  {
   "cell_type": "code",
   "execution_count": 3,
   "metadata": {},
   "outputs": [
    {
     "name": "stdout",
     "output_type": "stream",
     "text": [
      "<Response [200]>\n"
     ]
    }
   ],
   "source": [
    "from pprint import PrettyPrinter\n",
    "pp = PrettyPrinter()\n",
    "pp.pprint(requests.get(\"https://wahyuazizi-mlops.up.railway.app/v1/models/employee-performance-model\"))"
   ]
  },
  {
   "cell_type": "code",
   "execution_count": 4,
   "metadata": {},
   "outputs": [
    {
     "data": {
      "text/plain": [
       "{'EmployeeStatus': 'Active',\n",
       " 'EmployeeType': 'Contract',\n",
       " 'PayZone': 'Zone B',\n",
       " 'EmployeeClassificationType': 'Full-Time',\n",
       " 'DepartmentType': 'Sales',\n",
       " 'GenderCode': 'Male',\n",
       " 'RaceDesc': 'White',\n",
       " 'MaritalDesc': 'Widowed',\n",
       " 'TrainingType': 'Internal',\n",
       " 'TrainingOutcome': 'Incomplete',\n",
       " 'CurrentEmployeeRating': 5,\n",
       " 'EngagementScore': 3,\n",
       " 'SatisfactionScore': 4,\n",
       " 'Work-LifeBalanceScore': 5,\n",
       " 'TrainingDurationDays': 3,\n",
       " 'TrainingCost': 442.56,\n",
       " 'Age': 48}"
      ]
     },
     "execution_count": 4,
     "metadata": {},
     "output_type": "execute_result"
    }
   ],
   "source": [
    "CATEGORICAL_FEATURES = {\n",
    "    \"EmployeeStatus\": 2,\n",
    "    \"EmployeeType\": 3,\n",
    "    \"PayZone\": 3,\n",
    "    \"EmployeeClassificationType\": 3,\n",
    "    \"DepartmentType\": 6,\n",
    "    \"GenderCode\": 2,\n",
    "    \"RaceDesc\": 5,\n",
    "    \"MaritalDesc\": 4,\n",
    "    \"TrainingType\": 2,\n",
    "    \"TrainingOutcome\": 4\n",
    "}\n",
    "\n",
    "NUMERICAL_FEATURES = [\n",
    "    \"CurrentEmployeeRating\",\n",
    "    \"EngagementScore\",\n",
    "    \"SatisfactionScore\",\n",
    "    \"Work-LifeBalanceScore\",\n",
    "    \"TrainingDurationDays\",\n",
    "    \"TrainingCost\",\n",
    "    \"Age\"\n",
    "]\n",
    "selected_features = list(CATEGORICAL_FEATURES.keys()) + NUMERICAL_FEATURES\n",
    "inputs = df.loc[53, selected_features].to_dict()\n",
    "inputs\n"
   ]
  },
  {
   "cell_type": "code",
   "execution_count": 5,
   "metadata": {},
   "outputs": [
    {
     "name": "stdout",
     "output_type": "stream",
     "text": [
      "None\n"
     ]
    }
   ],
   "source": [
    "def prepare_json(inputs: dict):\n",
    "    feature_spec = dict()\n",
    "\n",
    "    for keys, values in inputs.items():\n",
    "        if isinstance(values, float):\n",
    "            feature_spec[keys] = tf.train.Feature(float_list=tf.train.FloatList(value=[values]))\n",
    "        elif isinstance(values, int):\n",
    "            feature_spec[keys] = tf.train.Feature(int64_list=tf.train.Int64List(value=[values]))\n",
    "        elif isinstance(values, str):\n",
    "            feature_spec[keys] = tf.train.Feature(bytes_list=tf.train.BytesList(value=[values.encode()]))\n",
    "\n",
    "    example = tf.train.Example(\n",
    "        features=tf.train.Features(feature=feature_spec)\n",
    "    ).SerializeToString()\n",
    "\n",
    "    result = [\n",
    "        {\n",
    "            \"examples\":{\n",
    "                \"b64\": base64.b64encode(example).decode()\n",
    "            }\n",
    "        }\n",
    "    ]\n",
    "\n",
    "    return json.dumps({\n",
    "        \"signature_name\": \"serving_default\",\n",
    "        \"instances\": result,\n",
    "    })\n",
    "\n",
    "json_data = prepare_json(inputs)\n",
    "\n",
    "endpoint = \"https://wahyuazizi-mlops.up.railway.app/v1/models/employee-performance-model:predict\"\n",
    "response = requests.post(endpoint, data=json_data)\n",
    "\n",
    "prediction = response.json().get(\"predictions\")\n",
    "print(prediction)"
   ]
  },
  {
   "cell_type": "code",
   "execution_count": 9,
   "metadata": {},
   "outputs": [
    {
     "name": "stdout",
     "output_type": "stream",
     "text": [
      "Error 400: {\n",
      "    \"error\": \"Name: <unknown>, Feature: BusinessUnit (data type: string) is required but could not be found.\\n\\t [[{{function_node __inference_serve_tf_examples_fn_927287}}{{node ParseExample/ParseExampleV2}}]]\"\n",
      "}\n"
     ]
    }
   ],
   "source": [
    "import json\n",
    "import base64\n",
    "import requests\n",
    "import tensorflow as tf\n",
    "\n",
    "# Memilih fitur yang valid dari dataset\n",
    "# selected_features = [col for col in list(CATEGORICAL_FEATURES.keys()) + NUMERICAL_FEATURES if col in df.columns]\n",
    "selected_features = list(CATEGORICAL_FEATURES.keys()) + NUMERICAL_FEATURES\n",
    "\n",
    "# Ambil data dari baris ke-53\n",
    "inputs = df.loc[53, selected_features].to_dict()\n",
    "\n",
    "def prepare_json(inputs: dict):\n",
    "    \"\"\"\n",
    "    Mengonversi dictionary menjadi format JSON untuk request ke TensorFlow Serving\n",
    "    \"\"\"\n",
    "    feature_spec = {}\n",
    "\n",
    "    for key, value in inputs.items():\n",
    "        if value is None:  # Jika ada nilai None, ubah jadi nilai default (misalnya 0 atau \"\")\n",
    "            value = 0 if isinstance(value, (int, float)) else \"\"\n",
    "\n",
    "        if isinstance(value, float):\n",
    "            feature_spec[key] = tf.train.Feature(float_list=tf.train.FloatList(value=[value]))\n",
    "        elif isinstance(value, int):\n",
    "            feature_spec[key] = tf.train.Feature(int64_list=tf.train.Int64List(value=[value]))\n",
    "        elif isinstance(value, str):\n",
    "            feature_spec[key] = tf.train.Feature(bytes_list=tf.train.BytesList(value=[value.encode()]))\n",
    "\n",
    "    # Serialisasi contoh data ke format TensorFlow Serving\n",
    "    example = tf.train.Example(features=tf.train.Features(feature=feature_spec)).SerializeToString()\n",
    "    encoded_example = base64.b64encode(example).decode()\n",
    "\n",
    "    # Format JSON yang sesuai untuk TensorFlow Serving\n",
    "    payload = {\n",
    "        \"signature_name\": \"serving_default\",\n",
    "        \"instances\": [{\"b64\": encoded_example}]\n",
    "    }\n",
    "\n",
    "    return json.dumps(payload)\n",
    "\n",
    "# Membuat JSON dari input data\n",
    "json_data = prepare_json(inputs)\n",
    "\n",
    "# Endpoint model di Railway\n",
    "endpoint = \"https://wahyuazizi-mlops.up.railway.app/v1/models/employee-performance-model:predict\"\n",
    "\n",
    "# Mengirim request ke API\n",
    "headers = {\"Content-Type\": \"application/json\"}\n",
    "response = requests.post(endpoint, data=json_data, headers=headers)\n",
    "\n",
    "# Menampilkan hasil prediksi\n",
    "if response.status_code == 200:\n",
    "    prediction = response.json().get(\"predictions\", None)\n",
    "    print(\"Prediction:\", prediction)\n",
    "else:\n",
    "    print(f\"Error {response.status_code}: {response.text}\")\n"
   ]
  },
  {
   "cell_type": "code",
   "execution_count": null,
   "metadata": {},
   "outputs": [],
   "source": [
    "\"\"\"\n",
    "0 (PIP) → Kinerja buruk, butuh perbaikan segera.\n",
    "1 (Fully Meets) → Memenuhi harapan pekerjaan dengan baik.\n",
    "2 (Exceeded) → Melebihi ekspektasi dalam kinerja.\n",
    "3 (Need Improvement) → Performa kurang baik, tapi belum sampai tahap PIP.\n",
    "\"\"\""
   ]
  }
 ],
 "metadata": {
  "kernelspec": {
   "display_name": "submission",
   "language": "python",
   "name": "python3"
  },
  "language_info": {
   "codemirror_mode": {
    "name": "ipython",
    "version": 3
   },
   "file_extension": ".py",
   "mimetype": "text/x-python",
   "name": "python",
   "nbconvert_exporter": "python",
   "pygments_lexer": "ipython3",
   "version": "3.9.15"
  }
 },
 "nbformat": 4,
 "nbformat_minor": 2
}
