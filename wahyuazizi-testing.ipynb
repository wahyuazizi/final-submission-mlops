{
 "cells": [
  {
   "cell_type": "code",
   "execution_count": 2,
   "metadata": {},
   "outputs": [],
   "source": [
    "import base64\n",
    "import json\n",
    "import pandas as pd\n",
    "import numpy as np\n",
    "import requests\n",
    "import tensorflow as tf"
   ]
  },
  {
   "cell_type": "code",
   "execution_count": 3,
   "metadata": {},
   "outputs": [],
   "source": [
    "df = pd.read_csv(\"data/Cleaned_HR_Data_Analysis.csv\")"
   ]
  },
  {
   "cell_type": "code",
   "execution_count": 4,
   "metadata": {},
   "outputs": [
    {
     "name": "stdout",
     "output_type": "stream",
     "text": [
      "<Response [200]>\n"
     ]
    }
   ],
   "source": [
    "from pprint import PrettyPrinter\n",
    "pp = PrettyPrinter()\n",
    "pp.pprint(requests.get(\"https://final-submission-mlops-production.up.railway.app/v1/models/employee-performance-model\"))"
   ]
  },
  {
   "cell_type": "code",
   "execution_count": 12,
   "metadata": {},
   "outputs": [
    {
     "name": "stdout",
     "output_type": "stream",
     "text": [
      "Error: No predictions found in response.\n"
     ]
    }
   ],
   "source": [
    "import json\n",
    "import base64\n",
    "import requests\n",
    "import tensorflow as tf\n",
    "\n",
    "# Data fitur\n",
    "CATEGORICAL_FEATURES = {\n",
    "    \"BusinessUnit\": 10,\n",
    "    \"EmployeeStatus\": 2,\n",
    "    \"EmployeeType\": 3,\n",
    "    \"PayZone\": 3,\n",
    "    \"EmployeeClassificationType\": 3,\n",
    "    \"DepartmentType\": 6,\n",
    "    \"GenderCode\": 2,\n",
    "    \"RaceDesc\": 5,\n",
    "    \"MaritalDesc\": 4,\n",
    "    \"TrainingType\": 2,\n",
    "    \"TrainingOutcome\": 4\n",
    "}\n",
    "\n",
    "NUMERICAL_FEATURES = [\n",
    "    \"CurrentEmployeeRating\",\n",
    "    \"EngagementScore\",\n",
    "    \"SatisfactionScore\",\n",
    "    \"Work-LifeBalanceScore\",\n",
    "    \"TrainingDurationDays\",\n",
    "    \"TrainingCost\",\n",
    "    \"Age\"\n",
    "]\n",
    "\n",
    "LABEL_KEY = \"PerformanceScore\"  # Label yang ingin diprediksi\n",
    "\n",
    "# Fungsi untuk menyiapkan data dalam format JSON\n",
    "def prepare_json(inputs: dict):\n",
    "    feature_spec = {}\n",
    "\n",
    "    for keys, values in inputs.items():\n",
    "        if isinstance(values, float):\n",
    "            feature_spec[keys] = tf.train.Feature(float_list=tf.train.FloatList(value=[values]))\n",
    "        elif isinstance(values, int):\n",
    "            feature_spec[keys] = tf.train.Feature(int64_list=tf.train.Int64List(value=[values]))\n",
    "        elif isinstance(values, str):\n",
    "            feature_spec[keys] = tf.train.Feature(bytes_list=tf.train.BytesList(value=[values.encode()]))\n",
    "\n",
    "    example = tf.train.Example(\n",
    "        features=tf.train.Features(feature=feature_spec)\n",
    "    ).SerializeToString()\n",
    "\n",
    "    result = [\n",
    "        {\n",
    "            \"examples\": {\n",
    "                \"b64\": base64.b64encode(example).decode()\n",
    "            }\n",
    "        }\n",
    "    ]\n",
    "\n",
    "    return json.dumps({\n",
    "        \"signature_name\": \"serving_default\",\n",
    "        \"instances\": result,\n",
    "    })\n",
    "\n",
    "# Mengambil data dari dataframe (misalnya index ke-53)\n",
    "inputs = df.loc[53, list(CATEGORICAL_FEATURES.keys()) + NUMERICAL_FEATURES].to_dict()\n",
    "json_data = prepare_json(inputs)\n",
    "\n",
    "# Gantilah endpoint dengan yang sesuai untuk model PerformanceScore\n",
    "endpoint = \"https://final-submission-mlops-production.up.railway.app/v1/models/employee-performance-model:predict\"\n",
    "response = requests.post(endpoint, data=json_data)\n",
    "\n",
    "# Mengambil hasil prediksi\n",
    "prediction = response.json().get(\"predictions\")\n",
    "\n",
    "if prediction:\n",
    "    prediction_probs = prediction[0]  # Output probabilitas untuk setiap kelas (misal: [0.1, 0.3, 0.4, 0.2])\n",
    "    predicted_index = prediction_probs.index(max(prediction_probs))  # Pilih kelas dengan probabilitas tertinggi\n",
    "\n",
    "    # Mapping indeks ke label kelas\n",
    "    label_mapping = {\n",
    "        0: \"PIP\",\n",
    "        1: \"Fully Meets\",\n",
    "        2: \"Exceeds\",\n",
    "        3: \"Needs Improvement\"\n",
    "    }\n",
    "\n",
    "    result = label_mapping.get(predicted_index, \"Unknown\")\n",
    "else:\n",
    "    result = \"Error: No predictions found in response.\"\n",
    "\n",
    "print(result)\n"
   ]
  },
  {
   "cell_type": "code",
   "execution_count": null,
   "metadata": {},
   "outputs": [
    {
     "name": "stdout",
     "output_type": "stream",
     "text": [
      "None\n"
     ]
    }
   ],
   "source": [
    "def prepare_json(inputs: dict):\n",
    "    feature_spec = dict()\n",
    "\n",
    "    for keys, values in inputs.items():\n",
    "        if isinstance(values, float):\n",
    "            feature_spec[keys] = tf.train.Feature(float_list=tf.train.FloatList(value=[values]))\n",
    "        elif isinstance(values, int):\n",
    "            feature_spec[keys] = tf.train.Feature(int64_list=tf.train.Int64List(value=[values]))\n",
    "        elif isinstance(values, str):\n",
    "            feature_spec[keys] = tf.train.Feature(bytes_list=tf.train.BytesList(value=[values.encode()]))\n",
    "\n",
    "    example = tf.train.Example(\n",
    "        features=tf.train.Features(feature=feature_spec)\n",
    "    ).SerializeToString()\n",
    "\n",
    "    result = [\n",
    "        {\n",
    "            \"examples\": {\n",
    "                \"b64\": base64.b64encode(example).decode()\n",
    "            }\n",
    "        }\n",
    "    ]\n",
    "\n",
    "    return json.dumps({\n",
    "        \"signature_name\": \"serving_default\",\n",
    "        \"instances\": result,\n",
    "    })\n",
    "\n",
    "json_data = prepare_json(inputs)\n",
    "\n",
    "endpoint = \"https://final-submission-mlops-production.up.railway.app/v1/models/employee-performance-model:predict\"\n",
    "response = requests.post(endpoint, data=json_data)\n",
    "\n",
    "prediction = response.json().get(\"predictions\")\n",
    "if prediction:\n",
    "    prediction_value = prediction[0][0]\n",
    "    result = \"No diabetes\" if prediction_value < 0.5 else \"Diabetes\"\n",
    "else:\n",
    "    result = \"Error: No predictions found in response.\"\n",
    "\n",
    "print(result)"
   ]
  },
  {
   "cell_type": "code",
   "execution_count": 7,
   "metadata": {},
   "outputs": [
    {
     "name": "stdout",
     "output_type": "stream",
     "text": [
      "{\"signature_name\": \"serving_default\", \"instances\": [{\"examples\": {\"b64\": \"Cv8DCh0KFFRyYWluaW5nRHVyYXRpb25EYXlzEgUaAwoBAwoYCg9FbmdhZ2VtZW50U2NvcmUSBRoDCgEDChYKCkdlbmRlckNvZGUSCAoGCgRNYWxlChUKCFJhY2VEZXNjEgkKBwoFV2hpdGUKHgoVV29yay1MaWZlQmFsYW5jZVNjb3JlEgUaAwoBBQoeChVDdXJyZW50RW1wbG95ZWVSYXRpbmcSBRoDCgEFCisKGkVtcGxveWVlQ2xhc3NpZmljYXRpb25UeXBlEg0KCwoJRnVsbC1UaW1lChcKDEJ1c2luZXNzVW5pdBIHCgUKA05FTAoaCgtNYXJpdGFsRGVzYxILCgkKB1dpZG93ZWQKGAoMVHJhaW5pbmdDb3N0EggSBgoErkfdQwoMCgNBZ2USBRoDCgEwChUKB1BheVpvbmUSCgoICgZab25lIEIKHAoORW1wbG95ZWVTdGF0dXMSCgoICgZBY3RpdmUKHAoMVHJhaW5pbmdUeXBlEgwKCgoISW50ZXJuYWwKGwoORGVwYXJ0bWVudFR5cGUSCQoHCgVTYWxlcwocCgxFbXBsb3llZVR5cGUSDAoKCghDb250cmFjdAohCg9UcmFpbmluZ091dGNvbWUSDgoMCgpJbmNvbXBsZXRlChoKEVNhdGlzZmFjdGlvblNjb3JlEgUaAwoBBA==\"}}]}\n"
     ]
    }
   ],
   "source": [
    "print(json_data)"
   ]
  },
  {
   "cell_type": "code",
   "execution_count": 8,
   "metadata": {},
   "outputs": [
    {
     "name": "stdout",
     "output_type": "stream",
     "text": [
      "404 {\"status\":\"error\",\"code\":404,\"message\":\"Application not found\",\"request_id\":\"TrlVXRVkQtKnq4y42AUYfA_4108239275\"}\n"
     ]
    }
   ],
   "source": [
    "print(response.status_code, response.text)"
   ]
  },
  {
   "cell_type": "code",
   "execution_count": 9,
   "metadata": {},
   "outputs": [
    {
     "name": "stdout",
     "output_type": "stream",
     "text": [
      "{'status': 'error', 'code': 404, 'message': 'Application not found', 'request_id': 'TrlVXRVkQtKnq4y42AUYfA_4108239275'}\n"
     ]
    }
   ],
   "source": [
    "print(response.json())"
   ]
  },
  {
   "cell_type": "code",
   "execution_count": null,
   "metadata": {},
   "outputs": [
    {
     "name": "stdout",
     "output_type": "stream",
     "text": [
      "\n",
      "=== Error Reading DataFrame ===\n",
      "[Errno 2] No such file or directory: 'employee_data.csv'\n",
      "\n",
      "=== Error: No valid input data ===\n",
      "\n",
      "=== JSON Payload Sent ===\n",
      "{\"signature_name\": \"serving_default\", \"instances\": [{\"examples\": {\"b64\": \"CgA=\"}}]}\n",
      "\n",
      "=== API Response Status ===\n",
      "400\n",
      "\n",
      "=== API Response Error ===\n",
      "{\n",
      "    \"error\": \"Name: <unknown>, Feature: Age (data type: int64) is required but could not be found.\\n\\t [[{{function_node __inference_serve_tf_examples_fn_1008875}}{{node ParseExample/ParseExampleV2}}]]\"\n",
      "}\n",
      "\n",
      "=== API Response JSON ===\n",
      "{'error': 'Name: <unknown>, Feature: Age (data type: int64) is required but could not be found.\\n\\t [[{{function_node __inference_serve_tf_examples_fn_1008875}}{{node ParseExample/ParseExampleV2}}]]'}\n",
      "\n",
      "=== Predicted Result ===\n",
      "Error: No predictions found in response.\n"
     ]
    },
    {
     "ename": "",
     "evalue": "",
     "output_type": "error",
     "traceback": [
      "\u001b[1;31mThe Kernel crashed while executing code in the current cell or a previous cell. \n",
      "\u001b[1;31mPlease review the code in the cell(s) to identify a possible cause of the failure. \n",
      "\u001b[1;31mClick <a href='https://aka.ms/vscodeJupyterKernelCrash'>here</a> for more info. \n",
      "\u001b[1;31mView Jupyter <a href='command:jupyter.viewOutput'>log</a> for further details."
     ]
    }
   ],
   "source": [
    "import json\n",
    "import base64\n",
    "import requests\n",
    "import tensorflow as tf\n",
    "import pandas as pd  # Pastikan df sudah didefinisikan\n",
    "\n",
    "# Data fitur\n",
    "CATEGORICAL_FEATURES = {\n",
    "    \"BusinessUnit\": 10,\n",
    "    \"EmployeeStatus\": 2,\n",
    "    \"EmployeeType\": 3,\n",
    "    \"PayZone\": 3,\n",
    "    \"EmployeeClassificationType\": 3,\n",
    "    \"DepartmentType\": 6,\n",
    "    \"GenderCode\": 2,\n",
    "    \"RaceDesc\": 5,\n",
    "    \"MaritalDesc\": 4,\n",
    "    \"TrainingType\": 2,\n",
    "    \"TrainingOutcome\": 4\n",
    "}\n",
    "\n",
    "NUMERICAL_FEATURES = [\n",
    "    \"CurrentEmployeeRating\",\n",
    "    \"EngagementScore\",\n",
    "    \"SatisfactionScore\",\n",
    "    \"Work-LifeBalanceScore\",\n",
    "    \"TrainingDurationDays\",\n",
    "    \"TrainingCost\",\n",
    "    \"Age\"\n",
    "]\n",
    "\n",
    "LABEL_KEY = \"PerformanceScore\"  # Label yang ingin diprediksi\n",
    "AVAILABLE_FEATURES = list(CATEGORICAL_FEATURES.keys()) + NUMERICAL_FEATURES  # Gabungkan semua fitur yang valid\n",
    "\n",
    "def prepare_json(inputs: dict):\n",
    "    \"\"\"Menyiapkan payload JSON untuk dikirim ke API TensorFlow Serving.\"\"\"\n",
    "    filtered_inputs = {k: v for k, v in inputs.items() if k in AVAILABLE_FEATURES}\n",
    "\n",
    "    feature_spec = {}\n",
    "    for key, value in filtered_inputs.items():\n",
    "        if isinstance(value, float):\n",
    "            feature_spec[key] = tf.train.Feature(float_list=tf.train.FloatList(value=[value]))\n",
    "        elif isinstance(value, int):\n",
    "            feature_spec[key] = tf.train.Feature(int64_list=tf.train.Int64List(value=[value]))\n",
    "        elif isinstance(value, str):\n",
    "            feature_spec[key] = tf.train.Feature(bytes_list=tf.train.BytesList(value=[value.encode()]))\n",
    "        else:\n",
    "            feature_spec[key] = tf.train.Feature()  # Handle missing or invalid types\n",
    "\n",
    "    example = tf.train.Example(\n",
    "        features=tf.train.Features(feature=feature_spec)\n",
    "    ).SerializeToString()\n",
    "\n",
    "    result = [{\"examples\": {\"b64\": base64.b64encode(example).decode()}}]\n",
    "\n",
    "    json_data = json.dumps({\n",
    "        \"signature_name\": \"serving_default\",\n",
    "        \"instances\": result,\n",
    "    }, default=str)\n",
    "\n",
    "    print(\"\\n=== JSON Payload Sent ===\")\n",
    "    print(json_data)  # Cek format JSON sebelum dikirim\n",
    "\n",
    "    return json_data\n",
    "\n",
    "# Pastikan df sudah ada\n",
    "try:\n",
    "    df = pd.read_csv(\"./data/Cleaned_HR_Data_Analysis.csv\")  # Ubah ini sesuai sumber data\n",
    "    inputs = df.loc[53, AVAILABLE_FEATURES].to_dict()\n",
    "except Exception as e:\n",
    "    print(\"\\n=== Error Reading DataFrame ===\")\n",
    "    print(e)\n",
    "    inputs = {}\n",
    "\n",
    "# Jika inputs kosong, hentikan eksekusi\n",
    "if not inputs:\n",
    "    print(\"\\n=== Error: No valid input data ===\")\n",
    "    exit()\n",
    "\n",
    "json_data = prepare_json(inputs)\n",
    "\n",
    "# API endpoint\n",
    "endpoint = \"https://final-submission-mlops-production.up.railway.app/v1/models/employee-performance-model:predict\"\n",
    "\n",
    "# Kirim request ke API\n",
    "try:\n",
    "    response = requests.post(endpoint, json=json.loads(json_data), headers={\"Content-Type\": \"application/json\"})\n",
    "    \n",
    "    print(\"\\n=== API Response Status ===\")\n",
    "    print(response.status_code)\n",
    "\n",
    "    if response.status_code != 200:\n",
    "        print(\"\\n=== API Response Error ===\")\n",
    "        print(response.text)  # Print error message dari server\n",
    "        exit()\n",
    "    \n",
    "    # Parse JSON response\n",
    "    response_json = response.json()\n",
    "    print(\"\\n=== API Response JSON ===\")\n",
    "    print(response_json)\n",
    "    \n",
    "    # Ambil hasil prediksi\n",
    "    prediction = response_json.get(\"predictions\", [])\n",
    "\n",
    "    if prediction:\n",
    "        prediction_probs = prediction[0]  # Output probabilitas untuk setiap kelas\n",
    "        predicted_index = prediction_probs.index(max(prediction_probs))  # Pilih kelas dengan probabilitas tertinggi\n",
    "\n",
    "        label_mapping = {0: \"Poor\", 1: \"Average\", 2: \"Good\", 3: \"Excellent\"}\n",
    "        result = label_mapping.get(predicted_index, \"Unknown\")\n",
    "    else:\n",
    "        result = \"Error: No predictions found in response.\"\n",
    "    \n",
    "    print(\"\\n=== Predicted Result ===\")\n",
    "    print(result)\n",
    "\n",
    "except requests.exceptions.RequestException as e:\n",
    "    print(\"\\n=== API Request Error ===\")\n",
    "    print(e)\n"
   ]
  },
  {
   "cell_type": "code",
   "execution_count": 17,
   "metadata": {},
   "outputs": [
    {
     "name": "stdout",
     "output_type": "stream",
     "text": [
      "ConcreteFunction signature_wrapper(*, examples)\n",
      "  Args:\n",
      "    examples: string Tensor, shape=(None,)\n",
      "  Returns:\n",
      "    {'outputs': <1>}\n",
      "      <1>: float32 Tensor, shape=(None, 4)\n"
     ]
    }
   ],
   "source": [
    "import tensorflow as tf\n",
    "\n",
    "model = tf.saved_model.load(\"./output/serving_model/1742256020\")\n",
    "print(model.signatures[\"serving_default\"])\n"
   ]
  },
  {
   "cell_type": "code",
   "execution_count": null,
   "metadata": {},
   "outputs": [],
   "source": [
    "\"\"\"\n",
    "0 (PIP) → Kinerja buruk, butuh perbaikan segera.\n",
    "1 (Fully Meets) → Memenuhi harapan pekerjaan dengan baik.\n",
    "2 (Exceeded) → Melebihi ekspektasi dalam kinerja.\n",
    "3 (Need Improvement) → Performa kurang baik, tapi belum sampai tahap PIP.\n",
    "\"\"\""
   ]
  }
 ],
 "metadata": {
  "kernelspec": {
   "display_name": "submission",
   "language": "python",
   "name": "python3"
  },
  "language_info": {
   "codemirror_mode": {
    "name": "ipython",
    "version": 3
   },
   "file_extension": ".py",
   "mimetype": "text/x-python",
   "name": "python",
   "nbconvert_exporter": "python",
   "pygments_lexer": "ipython3",
   "version": "3.9.15"
  }
 },
 "nbformat": 4,
 "nbformat_minor": 2
}
