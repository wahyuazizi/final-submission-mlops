{
 "cells": [
  {
   "cell_type": "code",
   "execution_count": 6,
   "metadata": {},
   "outputs": [],
   "source": [
    "import os\n",
    "import pandas as pd\n",
    "import requests"
   ]
  },
  {
   "cell_type": "markdown",
   "metadata": {},
   "source": [
    "Deskripsi label:\n",
    "1. 0 (PIP) → Kinerja buruk, butuh perbaikan segera.\n",
    "2. 1 (Need Improvement) → Performa kurang baik, tapi belum sampai tahap PIP.\n",
    "3. 2 (Fully Meets) → Memenuhi harapan pekerjaan dengan baik.\n",
    "4. 3 (Exceeded) → Melebihi ekspektasi dalam kinerja.\n"
   ]
  },
  {
   "cell_type": "code",
   "execution_count": 7,
   "metadata": {},
   "outputs": [],
   "source": [
    "df = pd.read_csv(\"data/Cleaned_HR_Data_Analysis.csv\")"
   ]
  },
  {
   "cell_type": "code",
   "execution_count": 8,
   "metadata": {},
   "outputs": [
    {
     "name": "stdout",
     "output_type": "stream",
     "text": [
      "<Response [200]>\n"
     ]
    }
   ],
   "source": [
    "from pprint import PrettyPrinter\n",
    "pp = PrettyPrinter()\n",
    "pp.pprint(requests.get(\"https://wahyuazizi-mlops.up.railway.app/v1/models/employee-performance-model\"))"
   ]
  },
  {
   "cell_type": "code",
   "execution_count": 9,
   "metadata": {},
   "outputs": [],
   "source": [
    "\n",
    "CATEGORICAL_FEATURES = {\n",
    "    \"BusinessUnit\": 10,\n",
    "    \"EmployeeStatus\": 2,\n",
    "    \"EmployeeType\": 3,\n",
    "    \"PayZone\": 3,\n",
    "    \"EmployeeClassificationType\": 3,\n",
    "    \"DepartmentType\": 6,\n",
    "    \"GenderCode\": 2,\n",
    "    \"RaceDesc\": 5,\n",
    "    \"MaritalDesc\": 4,\n",
    "    \"TrainingType\": 2,\n",
    "    \"TrainingOutcome\": 4\n",
    "}\n",
    "\n",
    "NUMERICAL_FEATURES = [\n",
    "    \"CurrentEmployeeRating\",\n",
    "    \"EngagementScore\",\n",
    "    \"SatisfactionScore\",\n",
    "    \"Work-LifeBalanceScore\",\n",
    "    \"TrainingDurationDays\",\n",
    "    \"TrainingCost\",\n",
    "    \"Age\"\n",
    "]\n",
    "\n",
    "LABEL_KEY = \"PerformanceScore\"\n"
   ]
  },
  {
   "cell_type": "code",
   "execution_count": 10,
   "metadata": {},
   "outputs": [
    {
     "name": "stdout",
     "output_type": "stream",
     "text": [
      "File disimpan di data\\Cleaned_HR_Data_Analysis.csv\n"
     ]
    }
   ],
   "source": [
    "# Hanya pilih kolom yang diperlukan\n",
    "selected_columns = list(CATEGORICAL_FEATURES.keys()) + NUMERICAL_FEATURES + [LABEL_KEY]\n",
    "df = df[selected_columns]\n",
    "\n",
    "save_dir = \"data\"\n",
    "\n",
    "# Simpan file CSV dalam folder 'data'\n",
    "save_path = os.path.join(save_dir, \"Cleaned_HR_Data_Analysis.csv\")\n",
    "df.to_csv(save_path, index=False)\n",
    "\n",
    "print(f\"File disimpan di {save_path}\")"
   ]
  },
  {
   "cell_type": "code",
   "execution_count": 11,
   "metadata": {},
   "outputs": [
    {
     "name": "stdout",
     "output_type": "stream",
     "text": [
      "Predicted Performance Score: 1 (Need Improvement - Performa kurang baik, tapi belum sampai tahap PIP.)\n"
     ]
    }
   ],
   "source": [
    "import tensorflow as tf\n",
    "import json\n",
    "import base64\n",
    "import requests\n",
    "\n",
    "# Mapping hasil prediksi angka ke string\n",
    "LABEL_MAPPING = {\n",
    "    0: \"PIP - Kinerja buruk, butuh perbaikan segera.\",\n",
    "    1: \"Need Improvement - Performa kurang baik, tapi belum sampai tahap PIP.\",\n",
    "    2: \"Fully Meets - Memenuhi harapan pekerjaan dengan baik.\",\n",
    "    3: \"Exceeded - Melebihi ekspektasi dalam kinerja.\"\n",
    "}\n",
    "\n",
    "# Data contoh yang akan dikirim ke model\n",
    "input_data = {\n",
    "    \"BusinessUnit\": \"NEL\",\n",
    "    \"EmployeeStatus\": \"Active\",\n",
    "    \"EmployeeType\": \"Contract\",\n",
    "    \"PayZone\": \"Zone B\",\n",
    "    \"EmployeeClassificationType\": \"Full-Time\",\n",
    "    \"DepartmentType\": \"Sales\",\n",
    "    \"GenderCode\": \"Male\",\n",
    "    \"RaceDesc\": \"White\",\n",
    "    \"MaritalDesc\": \"Widowed\",\n",
    "    \"TrainingType\": \"Internal\",\n",
    "    \"TrainingOutcome\": \"Incomplete\",\n",
    "    \"CurrentEmployeeRating\": 5,  # Integer\n",
    "    \"EngagementScore\": 3,  # Integer\n",
    "    \"SatisfactionScore\": 4,  # Integer\n",
    "    \"Work-LifeBalanceScore\": 5,  # Integer\n",
    "    \"TrainingDurationDays\": 3,  # Integer\n",
    "    \"TrainingCost\": 442.56,  # Float\n",
    "    \"Age\": 48  # Integer\n",
    "}\n",
    "\n",
    "# Fitur yang harus dikirim sebagai int64\n",
    "INT_FEATURES = [\n",
    "    \"CurrentEmployeeRating\",\n",
    "    \"EngagementScore\",\n",
    "    \"SatisfactionScore\",\n",
    "    \"Work-LifeBalanceScore\",\n",
    "    \"TrainingDurationDays\",\n",
    "    \"Age\"\n",
    "]\n",
    "\n",
    "# Fitur yang dikirim sebagai float\n",
    "FLOAT_FEATURES = [\"TrainingCost\"]\n",
    "\n",
    "def prepare_json(inputs: dict):\n",
    "    feature_spec = {}\n",
    "\n",
    "    for key, value in inputs.items():\n",
    "        if key in INT_FEATURES:\n",
    "            feature_spec[key] = tf.train.Feature(int64_list=tf.train.Int64List(value=[int(value)]))\n",
    "        elif key in FLOAT_FEATURES:\n",
    "            feature_spec[key] = tf.train.Feature(float_list=tf.train.FloatList(value=[float(value)]))\n",
    "        elif isinstance(value, str):  # Fitur kategorikal (string) dikonversi ke bytes\n",
    "            feature_spec[key] = tf.train.Feature(bytes_list=tf.train.BytesList(value=[value.encode()]))\n",
    "\n",
    "    # Serialize data menjadi TFRecord (base64 encoding)\n",
    "    example = tf.train.Example(features=tf.train.Features(feature=feature_spec))\n",
    "    serialized_example = example.SerializeToString()\n",
    "\n",
    "    # Format sesuai dengan request model di Railway\n",
    "    result = [{\"examples\": {\"b64\": base64.b64encode(serialized_example).decode()}}]\n",
    "\n",
    "    return json.dumps({\n",
    "        \"signature_name\": \"serving_default\",\n",
    "        \"instances\": result\n",
    "    })\n",
    "\n",
    "# Konversi data ke format JSON\n",
    "json_data = prepare_json(input_data)\n",
    "\n",
    "# Endpoint model di Railway\n",
    "endpoint = \"https://wahyuazizi-mlops.up.railway.app/v1/models/employee-performance-model:predict\"\n",
    "\n",
    "# Kirim request ke model yang telah dideploy\n",
    "response = requests.post(endpoint, data=json_data, headers={\"Content-Type\": \"application/json\"})\n",
    "\n",
    "# Ambil hasil prediksi\n",
    "if response.status_code == 200:\n",
    "    prediction = response.json().get(\"predictions\")\n",
    "    if prediction:\n",
    "        predicted_class = prediction[0].index(max(prediction[0]))  # Mengambil indeks dengan nilai tertinggi\n",
    "        predicted_label = LABEL_MAPPING.get(predicted_class, \"Unknown\")  # Konversi angka ke deskripsi label\n",
    "        print(f\"Predicted Performance Score: {predicted_class} ({predicted_label})\")\n",
    "    else:\n",
    "        print(\"Error: No predictions found in response.\")\n",
    "else:\n",
    "    print(f\"Request failed with status code {response.status_code}: {response.text}\")\n"
   ]
  },
  {
   "cell_type": "code",
   "execution_count": null,
   "metadata": {},
   "outputs": [],
   "source": []
  }
 ],
 "metadata": {
  "kernelspec": {
   "display_name": "submission",
   "language": "python",
   "name": "python3"
  },
  "language_info": {
   "codemirror_mode": {
    "name": "ipython",
    "version": 3
   },
   "file_extension": ".py",
   "mimetype": "text/x-python",
   "name": "python",
   "nbconvert_exporter": "python",
   "pygments_lexer": "ipython3",
   "version": "3.9.15"
  }
 },
 "nbformat": 4,
 "nbformat_minor": 2
}
